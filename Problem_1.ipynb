{
 "cells": [
  {
   "cell_type": "markdown",
   "metadata": {},
   "source": [
    "# Problem 1: Language Modeling with RNNs\n",
    "* <b>Learning Objective:</b> In this problem, you are going to implement simple recurrent neural networks to deeply understand how RNNs works.\n",
    "* <b>Provided Code:</b> We provide the skeletons of classes you need to complete. Forward checking and gradient checkings are provided for verifying your implementation as well.\n",
    "* <b>TODOs:</b> you will implement a LSTM and use them it to train a model that can generate text using your own text source (novel, lyrics etc). <b>Also please do not forget to answer to the two inline questions before LSTM.</b>"
   ]
  },
  {
   "cell_type": "code",
   "execution_count": 1,
   "metadata": {
    "collapsed": true
   },
   "outputs": [],
   "source": [
    "from lib.rnn import *\n",
    "from lib.layer_utils import *\n",
    "from lib.grad_check import *\n",
    "from lib.optim import *\n",
    "from lib.train import *\n",
    "import numpy as np\n",
    "import matplotlib.pyplot as plt\n",
    "\n",
    "%matplotlib inline\n",
    "plt.rcParams['figure.figsize'] = (10.0, 8.0) # set default size of plots\n",
    "plt.rcParams['image.interpolation'] = 'nearest'\n",
    "plt.rcParams['image.cmap'] = 'gray'\n",
    "\n",
    "# for auto-reloading external modules\n",
    "# see http://stackoverflow.com/questions/1907993/autoreload-of-modules-in-ipython\n",
    "%load_ext autoreload\n",
    "%autoreload 2"
   ]
  },
  {
   "cell_type": "markdown",
   "metadata": {},
   "source": [
    "# Recurrent Neural Networks\n",
    "We will use recurrent neural network (RNN) language models for text generation. The file `lib/layer_utils.py` contains implementations of different layer types that are needed for recurrent neural networks, and the file `lib/rnn.py` uses these layers to implement an text generation model.\n",
    "\n",
    "We will implement LSTM layers in `lib/layer_utils.py`. As a reference, you are given complete codes for other layers including a vanilla RNN. Let's first look through the vanilla RNN, and other layers you may need for language modeling. The first part doesn't involve any coding. You can simply check the codes and run to make sure everything works as you expect."
   ]
  },
  {
   "cell_type": "markdown",
   "metadata": {},
   "source": [
    "# Vanilla RNN: step forward\n",
    "Open the file `lib/layer_utils.py`. This file implements the forward and backward passes for different types of layers that are commonly used in recurrent neural networks.\n",
    "\n",
    "First check the implementation of the function `step_forward` which implements the forward pass for a single timestep of a vanilla recurrent neural network. We provide this function for you. After doing so run the following code. You should see errors less than 1e-8."
   ]
  },
  {
   "cell_type": "code",
   "execution_count": 2,
   "metadata": {
    "collapsed": false
   },
   "outputs": [
    {
     "name": "stdout",
     "output_type": "stream",
     "text": [
      "next_h error:  6.29242142647e-09\n"
     ]
    }
   ],
   "source": [
    "N, D, H = 3, 10, 4\n",
    "\n",
    "rnn = VanillaRNN(D, H, init_scale=0.02, name=\"rnn_test\")\n",
    "x = np.linspace(-0.4, 0.7, num=N*D).reshape(N, D)\n",
    "prev_h = np.linspace(-0.2, 0.5, num=N*H).reshape(N, H)\n",
    "\n",
    "rnn.params[rnn.wx_name] = np.linspace(-0.1, 0.9, num=D*H).reshape(D, H)\n",
    "rnn.params[rnn.wh_name] = np.linspace(-0.3, 0.7, num=H*H).reshape(H, H)\n",
    "rnn.params[rnn.b_name] = np.linspace(-0.2, 0.4, num=H)\n",
    "\n",
    "next_h, _ = rnn.step_forward(x, prev_h)\n",
    "expected_next_h = np.asarray([\n",
    "  [-0.58172089, -0.50182032, -0.41232771, -0.31410098],\n",
    "  [ 0.66854692,  0.79562378,  0.87755553,  0.92795967],\n",
    "  [ 0.97934501,  0.99144213,  0.99646691,  0.99854353]])\n",
    "\n",
    "print('next_h error: ', rel_error(expected_next_h, next_h))"
   ]
  },
  {
   "cell_type": "markdown",
   "metadata": {},
   "source": [
    "# Vanilla RNN: step backward\n",
    "In the `VanillaRNN` class in the file `lib/layer_utils.py` check the `step_backward` function. After doing so run the following to numerically gradient check the implementation. You should see errors less than `1e-8`."
   ]
  },
  {
   "cell_type": "code",
   "execution_count": 4,
   "metadata": {
    "collapsed": false
   },
   "outputs": [
    {
     "name": "stdout",
     "output_type": "stream",
     "text": [
      "dx error:  5.28364787798e-11\n",
      "dprev_h error:  3.21438423985e-10\n",
      "dWx error:  4.69252837462e-10\n",
      "dWh error:  1.53588846025e-10\n",
      "db error:  2.01718247137e-11\n"
     ]
    }
   ],
   "source": [
    "np.random.seed(599)\n",
    "N, D, H = 4, 5, 6\n",
    "\n",
    "rnn = VanillaRNN(D, H, init_scale=0.02, name=\"rnn_test\")\n",
    "\n",
    "x = np.random.randn(N, D)\n",
    "h = np.random.randn(N, H)\n",
    "Wx = np.random.randn(D, H)\n",
    "Wh = np.random.randn(H, H)\n",
    "b = np.random.randn(H)\n",
    "\n",
    "rnn.params[rnn.wx_name] = Wx\n",
    "rnn.params[rnn.wh_name] = Wh\n",
    "rnn.params[rnn.b_name] = b\n",
    "\n",
    "out, meta = rnn.step_forward(x, h)\n",
    "\n",
    "\n",
    "dnext_h = np.random.randn(*out.shape)\n",
    "\n",
    "dx_num = eval_numerical_gradient_array(lambda x: rnn.step_forward(x, h)[0], x, dnext_h)\n",
    "dprev_h_num = eval_numerical_gradient_array(lambda h: rnn.step_forward(x, h)[0], h, dnext_h)\n",
    "dWx_num = eval_numerical_gradient_array(lambda Wx: rnn.step_forward(x, h)[0], Wx, dnext_h)\n",
    "dWh_num = eval_numerical_gradient_array(lambda Wh: rnn.step_forward(x, h)[0], Wh, dnext_h)\n",
    "db_num = eval_numerical_gradient_array(lambda b: rnn.step_forward(x, h)[0], b, dnext_h)\n",
    "\n",
    "dx, dprev_h, dWx, dWh, db = rnn.step_backward(dnext_h, meta)\n",
    "\n",
    "print('dx error: ', rel_error(dx_num, dx))\n",
    "print('dprev_h error: ', rel_error(dprev_h_num, dprev_h))\n",
    "print('dWx error: ', rel_error(dWx_num, dWx))\n",
    "print('dWh error: ', rel_error(dWh_num, dWh))\n",
    "print('db error: ', rel_error(db_num, db))"
   ]
  },
  {
   "cell_type": "markdown",
   "metadata": {},
   "source": [
    "# Vanilla RNN: forward\n",
    "Now that you have checked the forward and backward passes for a single timestep of a vanilla RNN, you will see how they are combined to implement a RNN that process an entire sequence of data.\n",
    "\n",
    "In the `VanillaRNN` class in the file `lib/layer_utils.py`, check the function `forward`. We provide this function for you. This is implemented using the `step_forward` function that you defined above. After doing so run the following to check the implementation. You should see errors less than `1e-7`."
   ]
  },
  {
   "cell_type": "code",
   "execution_count": 5,
   "metadata": {
    "collapsed": false
   },
   "outputs": [
    {
     "name": "stdout",
     "output_type": "stream",
     "text": [
      "h error:  7.72846618019e-08\n"
     ]
    }
   ],
   "source": [
    "N, T, D, H = 2, 3, 4, 5\n",
    "\n",
    "rnn = VanillaRNN(D, H, init_scale=0.02, name=\"rnn_test\")\n",
    "\n",
    "x = np.linspace(-0.1, 0.3, num=N*T*D).reshape(N, T, D)\n",
    "h0 = np.linspace(-0.3, 0.1, num=N*H).reshape(N, H)\n",
    "Wx = np.linspace(-0.2, 0.4, num=D*H).reshape(D, H)\n",
    "Wh = np.linspace(-0.4, 0.1, num=H*H).reshape(H, H)\n",
    "b = np.linspace(-0.7, 0.1, num=H)\n",
    "\n",
    "rnn.params[rnn.wx_name] = Wx\n",
    "rnn.params[rnn.wh_name] = Wh\n",
    "rnn.params[rnn.b_name] = b\n",
    "\n",
    "h = rnn.forward(x, h0)\n",
    "expected_h = np.asarray([\n",
    "  [\n",
    "    [-0.42070749, -0.27279261, -0.11074945,  0.05740409,  0.22236251],\n",
    "    [-0.39525808, -0.22554661, -0.0409454,   0.14649412,  0.32397316],\n",
    "    [-0.42305111, -0.24223728, -0.04287027,  0.15997045,  0.35014525],\n",
    "  ],\n",
    "  [\n",
    "    [-0.55857474, -0.39065825, -0.19198182,  0.02378408,  0.23735671],\n",
    "    [-0.27150199, -0.07088804,  0.13562939,  0.33099728,  0.50158768],\n",
    "    [-0.51014825, -0.30524429, -0.06755202,  0.17806392,  0.40333043]]])\n",
    "print('h error: ', rel_error(expected_h, h))"
   ]
  },
  {
   "cell_type": "markdown",
   "metadata": {},
   "source": [
    "# Vanilla RNN: backward\n",
    "In the file `lib/layer_utils.py`, check the backward pass for a vanilla RNN in the function `backward` in the `VanillaRNN` class. We provide this function for you. This runs back-propagation over the entire sequence, calling into the `step_backward` function defined above. You should see errors less than 5e-7."
   ]
  },
  {
   "cell_type": "code",
   "execution_count": 6,
   "metadata": {
    "collapsed": false
   },
   "outputs": [
    {
     "name": "stdout",
     "output_type": "stream",
     "text": [
      "dx error:  2.72278328805e-10\n",
      "dh0 error:  1.14641507974e-10\n",
      "dWx error:  4.87588393464e-09\n",
      "dWh error:  1.77111500265e-09\n",
      "db error:  2.44015975793e-10\n"
     ]
    }
   ],
   "source": [
    "np.random.seed(599)\n",
    "\n",
    "N, D, T, H = 2, 3, 10, 5\n",
    "\n",
    "rnn = VanillaRNN(D, H, init_scale=0.02, name=\"rnn_test\")\n",
    "\n",
    "x = np.random.randn(N, T, D)\n",
    "h0 = np.random.randn(N, H)\n",
    "Wx = np.random.randn(D, H)\n",
    "Wh = np.random.randn(H, H)\n",
    "b = np.random.randn(H)\n",
    "\n",
    "rnn.params[rnn.wx_name] = Wx\n",
    "rnn.params[rnn.wh_name] = Wh\n",
    "rnn.params[rnn.b_name] = b\n",
    "\n",
    "out = rnn.forward(x, h0)\n",
    "\n",
    "dout = np.random.randn(*out.shape)\n",
    "\n",
    "dx, dh0 = rnn.backward(dout)\n",
    "\n",
    "dx_num = eval_numerical_gradient_array(lambda x: rnn.forward(x, h0), x, dout)\n",
    "dh0_num = eval_numerical_gradient_array(lambda h0: rnn.forward(x, h0), h0, dout)\n",
    "dWx_num = eval_numerical_gradient_array(lambda Wx: rnn.forward(x, h0), Wx, dout)\n",
    "dWh_num = eval_numerical_gradient_array(lambda Wh: rnn.forward(x, h0), Wh, dout)\n",
    "db_num = eval_numerical_gradient_array(lambda b: rnn.forward(x, h0), b, dout)\n",
    "\n",
    "dWx = rnn.grads[rnn.wx_name]\n",
    "dWh = rnn.grads[rnn.wh_name]\n",
    "db = rnn.grads[rnn.b_name]\n",
    "\n",
    "print('dx error: ', rel_error(dx_num, dx))\n",
    "print('dh0 error: ', rel_error(dh0_num, dh0))\n",
    "print('dWx error: ', rel_error(dWx_num, dWx))\n",
    "print('dWh error: ', rel_error(dWh_num, dWh))\n",
    "print('db error: ', rel_error(db_num, db))"
   ]
  },
  {
   "cell_type": "markdown",
   "metadata": {},
   "source": [
    "# Word embedding: forward\n",
    "In deep learning systems, we commonly represent words using vectors. Each word of the vocabulary will be associated with a vector, and these vectors will be learned jointly with the rest of the system.\n",
    "\n",
    "In the file `lib/layer_utils.py`, check the function `forward` in the `word_embedding` class to convert words (represented by integers) into vectors. We provide this function for you. Run the following to check the implementation. You should see error around `1e-8`."
   ]
  },
  {
   "cell_type": "code",
   "execution_count": 7,
   "metadata": {
    "collapsed": false
   },
   "outputs": [
    {
     "name": "stdout",
     "output_type": "stream",
     "text": [
      "out error:  1.00000000947e-08\n"
     ]
    }
   ],
   "source": [
    "N, T, V, D = 2, 4, 5, 3\n",
    "\n",
    "we = word_embedding(V, D, name=\"we\")\n",
    "\n",
    "x = np.asarray([[0, 3, 1, 2], [2, 1, 0, 3]])\n",
    "W = np.linspace(0, 1, num=V*D).reshape(V, D)\n",
    "\n",
    "we.params[we.w_name] = W\n",
    "\n",
    "out = we.forward(x)\n",
    "expected_out = np.asarray([\n",
    " [[ 0.,          0.07142857,  0.14285714],\n",
    "  [ 0.64285714,  0.71428571,  0.78571429],\n",
    "  [ 0.21428571,  0.28571429,  0.35714286],\n",
    "  [ 0.42857143,  0.5,         0.57142857]],\n",
    " [[ 0.42857143,  0.5,         0.57142857],\n",
    "  [ 0.21428571,  0.28571429,  0.35714286],\n",
    "  [ 0.,          0.07142857,  0.14285714],\n",
    "  [ 0.64285714,  0.71428571,  0.78571429]]])\n",
    "\n",
    "print('out error: ', rel_error(expected_out, out))"
   ]
  },
  {
   "cell_type": "markdown",
   "metadata": {},
   "source": [
    "# Word embedding: backward\n",
    "Check the backward pass for the word embedding function in the function `backward` in the `word_embedding` class. We provide this function for you. After doing so run the following to numerically gradient check the implementation. You should see errors less than `1e-11`."
   ]
  },
  {
   "cell_type": "code",
   "execution_count": 8,
   "metadata": {
    "collapsed": false
   },
   "outputs": [
    {
     "name": "stdout",
     "output_type": "stream",
     "text": [
      "dW error:  3.27593252242e-12\n"
     ]
    }
   ],
   "source": [
    "np.random.seed(599)\n",
    "\n",
    "N, T, V, D = 50, 3, 5, 6\n",
    "\n",
    "we = word_embedding(V, D, name=\"we\")\n",
    "\n",
    "x = np.random.randint(V, size=(N, T))\n",
    "W = np.random.randn(V, D)\n",
    "\n",
    "we.params[we.w_name] = W\n",
    "\n",
    "out = we.forward(x)\n",
    "dout = np.random.randn(*out.shape)\n",
    "we.backward(dout)\n",
    "\n",
    "dW = we.grads[we.w_name]\n",
    "\n",
    "f = lambda W: we.forward(x)\n",
    "dW_num = eval_numerical_gradient_array(f, W, dout)\n",
    "\n",
    "print('dW error: ', rel_error(dW, dW_num))"
   ]
  },
  {
   "cell_type": "markdown",
   "metadata": {},
   "source": [
    "### Inline Question: Why do we want to represent words using word embeddings instead of one hot vector ( https://en.wikipedia.org/wiki/One-hot )? Provide one advantage of word embeddings.\n",
    "\n",
    "#### Ans: One hot vector for respresntation of words would be highly inefficient as there will be huge vector for each entry with a lot of zeros in it. So we use word embeddings which are efficient representation of the words. One advantage is word embeddings save us space. Another advantage is word embeddings may capture the relationship between some words. One hot vector does not capture any relationship between the words.\n"
   ]
  },
  {
   "cell_type": "markdown",
   "metadata": {},
   "source": [
    "# Temporal Fully Connected layer\n",
    "At every timestep we use an affine function to transform the RNN hidden vector at that timestep into scores for each word in the vocabulary. Because this is very similar to the fully connected layer that you implemented in assignment 1, we have provided this function for you in the `forward` and `backward` functions in the file `lib/layer_util.py`. Run the following to perform numeric gradient checking on the implementation. You should see errors less than 1e-9."
   ]
  },
  {
   "cell_type": "code",
   "execution_count": 9,
   "metadata": {
    "collapsed": false
   },
   "outputs": [
    {
     "name": "stdout",
     "output_type": "stream",
     "text": [
      "dx error:  1.05895915731e-09\n",
      "dw error:  1.16648120456e-10\n",
      "db error:  1.85404883256e-11\n"
     ]
    }
   ],
   "source": [
    "np.random.seed(599)\n",
    "\n",
    "# Gradient check for temporal affine layer\n",
    "N, T, D, M = 2, 3, 4, 5\n",
    "\n",
    "t_fc = temporal_fc(D, M, init_scale=0.02, name='test_t_fc')\n",
    "\n",
    "x = np.random.randn(N, T, D)\n",
    "w = np.random.randn(D, M)\n",
    "b = np.random.randn(M)\n",
    "\n",
    "t_fc.params[t_fc.w_name] = w\n",
    "t_fc.params[t_fc.b_name] = b\n",
    "\n",
    "out = t_fc.forward(x)\n",
    "\n",
    "dout = np.random.randn(*out.shape)\n",
    "\n",
    "dx_num = eval_numerical_gradient_array(lambda x: t_fc.forward(x), x, dout)\n",
    "dw_num = eval_numerical_gradient_array(lambda w: t_fc.forward(x), w, dout)\n",
    "db_num = eval_numerical_gradient_array(lambda b: t_fc.forward(x), b, dout)\n",
    "\n",
    "dx = t_fc.backward(dout)\n",
    "dw = t_fc.grads[t_fc.w_name]\n",
    "db = t_fc.grads[t_fc.b_name]\n",
    "\n",
    "print('dx error: ', rel_error(dx_num, dx))\n",
    "print('dw error: ', rel_error(dw_num, dw))\n",
    "print('db error: ', rel_error(db_num, db))"
   ]
  },
  {
   "cell_type": "markdown",
   "metadata": {},
   "source": [
    "# Temporal Softmax loss\n",
    "In an RNN language model, at every timestep we produce a score for each word in the vocabulary. We know the ground-truth word at each timestep, so we use a softmax loss function to compute loss and gradient at each timestep. We sum the losses over time and average them over the minibatch.\n",
    "\n",
    "We provide this loss function for you; look at the `temporal_softmax_loss` function in the file `lib/layer_utils.py`.\n",
    "\n",
    "Run the following cell to sanity check the loss and perform numeric gradient checking on the function. You should see an error for dx less than 1e-7."
   ]
  },
  {
   "cell_type": "code",
   "execution_count": 10,
   "metadata": {
    "collapsed": false
   },
   "outputs": [
    {
     "name": "stdout",
     "output_type": "stream",
     "text": [
      "2.3026437533\n",
      "23.0261456673\n",
      "2.30211012501\n",
      "dx error:  3.73563553172e-08\n"
     ]
    }
   ],
   "source": [
    "loss_func = temporal_softmax_loss()\n",
    "\n",
    "# Sanity check for temporal softmax loss\n",
    "N, T, V = 100, 1, 10\n",
    "\n",
    "def check_loss(N, T, V, p):\n",
    "    x = 0.001 * np.random.randn(N, T, V)\n",
    "    y = np.random.randint(V, size=(N, T))\n",
    "    mask = np.random.rand(N, T) <= p\n",
    "    print(loss_func.forward(x, y, mask))\n",
    "  \n",
    "check_loss(100, 1, 10, 1.0)   # Should be about 2.3\n",
    "check_loss(100, 10, 10, 1.0)  # Should be about 23\n",
    "check_loss(5000, 10, 10, 0.1) # Should be about 2.3\n",
    "\n",
    "# Gradient check for temporal softmax loss\n",
    "N, T, V = 7, 8, 9\n",
    "\n",
    "x = np.random.randn(N, T, V)\n",
    "y = np.random.randint(V, size=(N, T))\n",
    "mask = (np.random.rand(N, T) > 0.5)\n",
    "\n",
    "loss = loss_func.forward(x, y, mask)\n",
    "dx = loss_func.backward()\n",
    "\n",
    "dx_num = eval_numerical_gradient(lambda x: loss_func.forward(x, y, mask), x, verbose=False)\n",
    "\n",
    "print('dx error: ', rel_error(dx, dx_num))"
   ]
  },
  {
   "cell_type": "markdown",
   "metadata": {},
   "source": [
    "### Inline Question: Using softmax function over vocabulary for word prediction is common in language modeling. However, this technique is not perfect, what do you think are the major disadvantages of it? Pleaes provide one disadvantage of softmax function over vocabulary. \n",
    "\n",
    "#### Ans: Major disadvantage of softmax over vocabulary is that calculating probability over the entire vocabulary is computationally very expensive with the increase in vocabulary size."
   ]
  },
  {
   "cell_type": "markdown",
   "metadata": {},
   "source": [
    "# RNN for language modeling\n",
    "Now that you have the necessary layers, you can combine them to build an language modeling model. Open the file `lib/rnn.py` and look at the `TestRNN` class.\n",
    "\n",
    "Check the forward and backward pass of the model in the `loss` function. For now you only see the implementation of the case where `cell_type='rnn'` for vanialla RNNs; you will implement the LSTM case later. After doing so, run the following to check the forward pass using a small test case; you should see error less than `1e-10`."
   ]
  },
  {
   "cell_type": "code",
   "execution_count": 11,
   "metadata": {
    "collapsed": false,
    "scrolled": false
   },
   "outputs": [
    {
     "name": "stdout",
     "output_type": "stream",
     "text": [
      "loss:  51.0949189134\n",
      "expected loss:  51.0949189134\n",
      "difference:  3.88169496546e-11\n"
     ]
    }
   ],
   "source": [
    "N, D, H = 10, 20, 40\n",
    "V = 4\n",
    "T = 13\n",
    "\n",
    "model = TestRNN(D, H, cell_type='rnn')\n",
    "loss_func = temporal_softmax_loss()\n",
    "\n",
    "# Set all model parameters to fixed values\n",
    "for k, v in model.params.items():\n",
    "    model.params[k] = np.linspace(-1.4, 1.3, num=v.size).reshape(*v.shape)\n",
    "model.assign_params()\n",
    "\n",
    "features = np.linspace(-1.5, 0.3, num=(N * D * T)).reshape(N, T, D)\n",
    "h0 = np.linspace(-1.5, 0.5, num=(N*H)).reshape(N, H)\n",
    "labels = (np.arange(N * T) % V).reshape(N, T)\n",
    "\n",
    "pred = model.forward(features, h0)\n",
    "\n",
    "# You'll need this\n",
    "mask = np.ones((N, T))\n",
    "\n",
    "loss = loss_func.forward(pred, labels, mask)\n",
    "dLoss = loss_func.backward()\n",
    "\n",
    "expected_loss = 51.0949189134\n",
    "\n",
    "print('loss: ', loss)\n",
    "print('expected loss: ', expected_loss)\n",
    "print('difference: ', abs(loss - expected_loss))"
   ]
  },
  {
   "cell_type": "markdown",
   "metadata": {},
   "source": [
    "Run the following cell to perform numeric gradient checking on the `TestRNN` class; you should errors around `1e-7` or less."
   ]
  },
  {
   "cell_type": "code",
   "execution_count": 12,
   "metadata": {
    "collapsed": false
   },
   "outputs": [
    {
     "name": "stdout",
     "output_type": "stream",
     "text": [
      "vanilla_rnn_b relative error: 3.672403e-09\n",
      "vanilla_rnn_wh relative error: 3.659114e-07\n",
      "vanilla_rnn_wx relative error: 1.780015e-09\n"
     ]
    }
   ],
   "source": [
    "np.random.seed(599)\n",
    "\n",
    "batch_size = 2\n",
    "timesteps = 3\n",
    "input_dim = 4\n",
    "hidden_dim = 6\n",
    "label_size = 4\n",
    "\n",
    "labels = np.random.randint(label_size, size=(batch_size, timesteps))\n",
    "features = np.random.randn(batch_size, timesteps, input_dim)\n",
    "h0 = np.random.randn(batch_size, hidden_dim)\n",
    "\n",
    "model = TestRNN(input_dim, hidden_dim, cell_type='rnn')\n",
    "loss_func = temporal_softmax_loss()\n",
    "\n",
    "pred = model.forward(features, h0)\n",
    "\n",
    "# You'll need this\n",
    "mask = np.ones((batch_size, timesteps))\n",
    "\n",
    "loss = loss_func.forward(pred, labels, mask)\n",
    "dLoss = loss_func.backward()\n",
    "\n",
    "dout, dh0 = model.backward(dLoss)\n",
    "\n",
    "grads = model.grads\n",
    "\n",
    "for param_name in sorted(grads):\n",
    "    \n",
    "    f = lambda _: loss_func.forward(model.forward(features, h0), labels, mask)\n",
    "    param_grad_num = eval_numerical_gradient(f, model.params[param_name], verbose=False, h=1e-6)\n",
    "    e = rel_error(param_grad_num, grads[param_name])\n",
    "    print('%s relative error: %e' % (param_name, e))"
   ]
  },
  {
   "cell_type": "markdown",
   "metadata": {},
   "source": [
    "# LSTM\n",
    "Vanilla RNNs can be tough to train on long sequences due to vanishing and exploding gradiants. LSTMs solve this problem by replacing the simple update rule of the vanilla RNN with a gating mechanism as follows.\n",
    "\n",
    "Similar to the vanilla RNN, at each timestep we receive an input $x_t\\in\\mathbb{R}^D$ and the previous hidden state $h_{t-1}\\in\\mathbb{R}^H$; what is different in the LSTM is to maintains an $H$-dimensional *cell state*, so we also receive the previous cell state $c_{t-1}\\in\\mathbb{R}^H$. The learnable parameters of the LSTM are an *input-to-hidden* matrix $W_x\\in\\mathbb{R}^{4H\\times D}$, a *hidden-to-hidden* matrix $W_h\\in\\mathbb{R}^{4H\\times H}$ and a *bias vector* $b\\in\\mathbb{R}^{4H}$.\n",
    "\n",
    "At each timestep we first compute an *activation vector* $a\\in\\mathbb{R}^{4H}$ as $a=W_xx_t + W_hh_{t-1}+b$. We then divide this into four vectors $a_i,a_f,a_o,a_g\\in\\mathbb{R}^H$ where $a_i$ consists of the first $H$ elements of $a$, $a_f$ is the next $H$ elements of $a$, etc. We then compute the *input gate* $g\\in\\mathbb{R}^H$, *forget gate* $f\\in\\mathbb{R}^H$, *output gate* $o\\in\\mathbb{R}^H$ and *block input* $g\\in\\mathbb{R}^H$ as\n",
    "\n",
    "$$\n",
    "\\begin{align*}\n",
    "i = \\sigma(a_i) \\hspace{2pc}\n",
    "f = \\sigma(a_f) \\hspace{2pc}\n",
    "o = \\sigma(a_o) \\hspace{2pc}\n",
    "g = \\tanh(a_g)\n",
    "\\end{align*}\n",
    "$$\n",
    "\n",
    "where $\\sigma$ is the sigmoid function and $\\tanh$ is the hyperbolic tangent, both applied elementwise.\n",
    "\n",
    "Finally we compute the next cell state $c_t$ and next hidden state $h_t$ as\n",
    "\n",
    "$$\n",
    "c_{t} = f\\odot c_{t-1} + i\\odot g \\hspace{4pc}\n",
    "h_t = o\\odot\\tanh(c_t)\n",
    "$$\n",
    "\n",
    "where $\\odot$ is the elementwise product of vectors.\n",
    "\n",
    "In the rest of the notebook we will implement the LSTM update rule and apply it to the text generation task. \n",
    "\n",
    "In the code, we assume that data is stored in batches so that $X_t \\in \\mathbb{R}^{N\\times D}$, and will work with *transposed* versions of the parameters: $W_x \\in \\mathbb{R}^{D \\times 4H}$, $W_h \\in \\mathbb{R}^{H\\times 4H}$ so that activations $A \\in \\mathbb{R}^{N\\times 4H}$ can be computed efficiently as $A = X_t W_x + H_{t-1} W_h$"
   ]
  },
  {
   "cell_type": "markdown",
   "metadata": {},
   "source": [
    "# LSTM: step forward\n",
    "Implement the forward pass for a single timestep of an LSTM in the `step_forward` function in the file `lib/layer_utils.py`. This should be similar to the `step_forward` function that you implemented above, but using the LSTM update rule instead.\n",
    "\n",
    "Once you are done, run the following to perform a simple test of your implementation. You should see errors around `1e-8` or less."
   ]
  },
  {
   "cell_type": "code",
   "execution_count": 13,
   "metadata": {
    "collapsed": false
   },
   "outputs": [
    {
     "name": "stdout",
     "output_type": "stream",
     "text": [
      "next_h error:  5.70541311858e-09\n",
      "next_c error:  5.81431230888e-09\n"
     ]
    }
   ],
   "source": [
    "N, D, H = 3, 4, 5\n",
    "\n",
    "lstm = LSTM(D, H, init_scale=0.02, name='test_lstm')\n",
    "\n",
    "x = np.linspace(-0.4, 1.2, num=N*D).reshape(N, D)\n",
    "prev_h = np.linspace(-0.3, 0.7, num=N*H).reshape(N, H)\n",
    "prev_c = np.linspace(-0.4, 0.9, num=N*H).reshape(N, H)\n",
    "Wx = np.linspace(-2.1, 1.3, num=4*D*H).reshape(D, 4 * H)\n",
    "Wh = np.linspace(-0.7, 2.2, num=4*H*H).reshape(H, 4 * H)\n",
    "b = np.linspace(0.3, 0.7, num=4*H)\n",
    "\n",
    "lstm.params[lstm.wx_name] = Wx\n",
    "lstm.params[lstm.wh_name] = Wh\n",
    "lstm.params[lstm.b_name] = b\n",
    "\n",
    "next_h, next_c, cache = lstm.step_forward(x, prev_h, prev_c)\n",
    "\n",
    "expected_next_h = np.asarray([\n",
    "    [ 0.24635157,  0.28610883,  0.32240467,  0.35525807,  0.38474904],\n",
    "    [ 0.49223563,  0.55611431,  0.61507696,  0.66844003,  0.7159181 ],\n",
    "    [ 0.56735664,  0.66310127,  0.74419266,  0.80889665,  0.858299  ]])\n",
    "expected_next_c = np.asarray([\n",
    "    [ 0.32986176,  0.39145139,  0.451556,    0.51014116,  0.56717407],\n",
    "    [ 0.66382255,  0.76674007,  0.87195994,  0.97902709,  1.08751345],\n",
    "    [ 0.74192008,  0.90592151,  1.07717006,  1.25120233,  1.42395676]])\n",
    "\n",
    "print('next_h error: ', rel_error(expected_next_h, next_h))\n",
    "print('next_c error: ', rel_error(expected_next_c, next_c))"
   ]
  },
  {
   "cell_type": "markdown",
   "metadata": {},
   "source": [
    "# LSTM: step backward\n",
    "Implement the backward pass for a single LSTM timestep in the function `step_backward` in the file `lib/layer_utils.py`. Once you are done, run the following to perform numeric gradient checking on your implementation. You should see errors around `1e-6` or less."
   ]
  },
  {
   "cell_type": "code",
   "execution_count": 14,
   "metadata": {
    "collapsed": false
   },
   "outputs": [
    {
     "name": "stdout",
     "output_type": "stream",
     "text": [
      "dx error:  4.16066350127e-10\n",
      "dh error:  1.92344969127e-10\n",
      "dc error:  3.29291767999e-10\n",
      "dWx error:  1.72332701769e-09\n",
      "dWh error:  3.23970096473e-09\n",
      "db error:  2.54654967342e-10\n"
     ]
    }
   ],
   "source": [
    "np.random.seed(599)\n",
    "\n",
    "N, D, H = 4, 5, 6\n",
    "\n",
    "lstm = LSTM(D, H, init_scale=0.02, name='test_lstm')\n",
    "\n",
    "x = np.random.randn(N, D)\n",
    "prev_h = np.random.randn(N, H)\n",
    "prev_c = np.random.randn(N, H)\n",
    "Wx = np.random.randn(D, 4 * H)\n",
    "Wh = np.random.randn(H, 4 * H)\n",
    "b = np.random.randn(4 * H)\n",
    "\n",
    "lstm.params[lstm.wx_name] = Wx\n",
    "lstm.params[lstm.wh_name] = Wh\n",
    "lstm.params[lstm.b_name] = b\n",
    "\n",
    "next_h, next_c, cache = lstm.step_forward(x, prev_h, prev_c)\n",
    "\n",
    "dnext_h = np.random.randn(*next_h.shape)\n",
    "dnext_c = np.random.randn(*next_c.shape)\n",
    "\n",
    "fx_h = lambda x: lstm.step_forward(x, prev_h, prev_c)[0]\n",
    "fh_h = lambda h: lstm.step_forward(x, prev_h, prev_c)[0]\n",
    "fc_h = lambda c: lstm.step_forward(x, prev_h, prev_c)[0]\n",
    "fWx_h = lambda Wx: lstm.step_forward(x, prev_h, prev_c)[0]\n",
    "fWh_h = lambda Wh: lstm.step_forward(x, prev_h, prev_c)[0]\n",
    "fb_h = lambda b: lstm.step_forward(x, prev_h, prev_c)[0]\n",
    "\n",
    "fx_c = lambda x: lstm.step_forward(x, prev_h, prev_c)[1]\n",
    "fh_c = lambda h: lstm.step_forward(x, prev_h, prev_c)[1]\n",
    "fc_c = lambda c: lstm.step_forward(x, prev_h, prev_c)[1]\n",
    "fWx_c = lambda Wx: lstm.step_forward(x, prev_h, prev_c)[1]\n",
    "fWh_c = lambda Wh: lstm.step_forward(x, prev_h, prev_c)[1]\n",
    "fb_c = lambda b: lstm.step_forward(x, prev_h, prev_c)[1]\n",
    "\n",
    "num_grad = eval_numerical_gradient_array\n",
    "\n",
    "dx_num = num_grad(fx_h, x, dnext_h) + num_grad(fx_c, x, dnext_c)\n",
    "dh_num = num_grad(fh_h, prev_h, dnext_h) + num_grad(fh_c, prev_h, dnext_c)\n",
    "dc_num = num_grad(fc_h, prev_c, dnext_h) + num_grad(fc_c, prev_c, dnext_c)\n",
    "dWx_num = num_grad(fWx_h, Wx, dnext_h) + num_grad(fWx_c, Wx, dnext_c)\n",
    "dWh_num = num_grad(fWh_h, Wh, dnext_h) + num_grad(fWh_c, Wh, dnext_c)\n",
    "db_num = num_grad(fb_h, b, dnext_h) + num_grad(fb_c, b, dnext_c)\n",
    "\n",
    "dx, dh, dc, dWx, dWh, db = lstm.step_backward(dnext_h, dnext_c, cache)\n",
    "\n",
    "print('dx error: ', rel_error(dx_num, dx))\n",
    "print('dh error: ', rel_error(dh_num, dh))\n",
    "print('dc error: ', rel_error(dc_num, dc))\n",
    "print('dWx error: ', rel_error(dWx_num, dWx))\n",
    "print('dWh error: ', rel_error(dWh_num, dWh))\n",
    "print('db error: ', rel_error(db_num, db))"
   ]
  },
  {
   "cell_type": "markdown",
   "metadata": {},
   "source": [
    "# LSTM: forward\n",
    "In the class `lstm` in the file `lib/layer_utils.py`, implement the `forward` function to run an LSTM forward on an entire timeseries of data.\n",
    "\n",
    "When you are done, run the following to check your implementation. You should see an error around `1e-7`."
   ]
  },
  {
   "cell_type": "code",
   "execution_count": 15,
   "metadata": {
    "collapsed": false
   },
   "outputs": [
    {
     "name": "stdout",
     "output_type": "stream",
     "text": [
      "h error:  8.61053745211e-08\n"
     ]
    }
   ],
   "source": [
    "N, D, H, T = 2, 5, 4, 3\n",
    "\n",
    "lstm = LSTM(D, H, init_scale=0.02, name='test_lstm')\n",
    "\n",
    "x = np.linspace(-0.4, 0.6, num=N*T*D).reshape(N, T, D)\n",
    "h0 = np.linspace(-0.4, 0.8, num=N*H).reshape(N, H)\n",
    "Wx = np.linspace(-0.2, 0.9, num=4*D*H).reshape(D, 4 * H)\n",
    "Wh = np.linspace(-0.3, 0.6, num=4*H*H).reshape(H, 4 * H)\n",
    "b = np.linspace(0.2, 0.7, num=4*H)\n",
    "\n",
    "lstm.params[lstm.wx_name] = Wx\n",
    "lstm.params[lstm.wh_name] = Wh\n",
    "lstm.params[lstm.b_name] = b\n",
    "\n",
    "h = lstm.forward(x, h0)\n",
    "\n",
    "expected_h = np.asarray([\n",
    " [[ 0.01764008,  0.01823233,  0.01882671,  0.0194232 ],\n",
    "  [ 0.11287491,  0.12146228,  0.13018446,  0.13902939],\n",
    "  [ 0.31358768,  0.33338627,  0.35304453,  0.37250975]],\n",
    " [[ 0.45767879,  0.4761092,   0.4936887,   0.51041945],\n",
    "  [ 0.6704845,   0.69350089,  0.71486014,  0.7346449 ],\n",
    "  [ 0.81733511,  0.83677871,  0.85403753,  0.86935314]]])\n",
    "\n",
    "print('h error: ', rel_error(expected_h, h))"
   ]
  },
  {
   "cell_type": "markdown",
   "metadata": {},
   "source": [
    "# LSTM: backward\n",
    "Implement the backward pass for an LSTM over an entire timeseries of data in the function `backward` in the `lstm` class in the file `lib/layer_utils.py`. When you are done, run the following to perform numeric gradient checking on your implementation. You should see errors around `1e-7` or less."
   ]
  },
  {
   "cell_type": "code",
   "execution_count": 16,
   "metadata": {
    "collapsed": false
   },
   "outputs": [
    {
     "name": "stdout",
     "output_type": "stream",
     "text": [
      "dx error:  6.95631665363e-10\n",
      "dh0 error:  2.32298507575e-09\n",
      "dWx error:  2.03122681647e-09\n",
      "dWh error:  2.72353598813e-08\n",
      "db error:  4.45549904367e-08\n"
     ]
    }
   ],
   "source": [
    "np.random.seed(599)\n",
    "\n",
    "N, D, T, H = 2, 3, 10, 6\n",
    "\n",
    "lstm = LSTM(D, H, init_scale=0.02, name='test_lstm')\n",
    "\n",
    "x = np.random.randn(N, T, D)\n",
    "h0 = np.random.randn(N, H)\n",
    "Wx = np.random.randn(D, 4 * H)\n",
    "Wh = np.random.randn(H, 4 * H)\n",
    "b = np.random.randn(4 * H)\n",
    "\n",
    "lstm.params[lstm.wx_name] = Wx\n",
    "lstm.params[lstm.wh_name] = Wh\n",
    "lstm.params[lstm.b_name] = b\n",
    "\n",
    "out = lstm.forward(x, h0)\n",
    "\n",
    "dout = np.random.randn(*out.shape)\n",
    "\n",
    "dx, dh0 = lstm.backward(dout)\n",
    "dWx = lstm.grads[lstm.wx_name] \n",
    "dWh = lstm.grads[lstm.wh_name]\n",
    "db = lstm.grads[lstm.b_name]\n",
    "\n",
    "dx_num = eval_numerical_gradient_array(lambda x: lstm.forward(x, h0), x, dout)\n",
    "dh0_num = eval_numerical_gradient_array(lambda h0: lstm.forward(x, h0), h0, dout)\n",
    "dWx_num = eval_numerical_gradient_array(lambda Wx: lstm.forward(x, h0), Wx, dout)\n",
    "dWh_num = eval_numerical_gradient_array(lambda Wh: lstm.forward(x, h0), Wh, dout)\n",
    "db_num = eval_numerical_gradient_array(lambda b: lstm.forward(x, h0), b, dout)\n",
    "\n",
    "print('dx error: ', rel_error(dx_num, dx))\n",
    "print('dh0 error: ', rel_error(dh0_num, dh0))\n",
    "print('dWx error: ', rel_error(dWx_num, dWx))\n",
    "print('dWh error: ', rel_error(dWh_num, dWh))\n",
    "print('db error: ', rel_error(db_num, db))"
   ]
  },
  {
   "cell_type": "markdown",
   "metadata": {},
   "source": [
    "# LSTM model\n",
    "\n",
    "Now that you have implemented an LSTM, update the initialization of the `TestRNN` class in the file `lib/rnn.py` to handle the case where `self.cell_type` is `lstm`. This should require adding only one line of codes.\n",
    "\n",
    "Once you have done so, run the following to check your implementation. You should see a difference of less than `1e-10`."
   ]
  },
  {
   "cell_type": "code",
   "execution_count": 17,
   "metadata": {
    "collapsed": false
   },
   "outputs": [
    {
     "name": "stdout",
     "output_type": "stream",
     "text": [
      "loss:  49.2140256354\n",
      "expected loss:  49.2140256354\n",
      "difference:  4.29309920946e-11\n"
     ]
    }
   ],
   "source": [
    "N, D, H = 10, 20, 40\n",
    "V = 4\n",
    "T = 13\n",
    "\n",
    "model = TestRNN(D, H, cell_type='lstm')\n",
    "loss_func = temporal_softmax_loss()\n",
    "\n",
    "# Set all model parameters to fixed values\n",
    "for k, v in model.params.items():\n",
    "    model.params[k] = np.linspace(-1.4, 1.3, num=v.size).reshape(*v.shape)\n",
    "model.assign_params()\n",
    "\n",
    "features = np.linspace(-1.5, 0.3, num=(N * D * T)).reshape(N, T, D)\n",
    "h0 = np.linspace(-1.5, 0.5, num=(N*H)).reshape(N, H)\n",
    "labels = (np.arange(N * T) % V).reshape(N, T)\n",
    "\n",
    "pred = model.forward(features, h0)\n",
    "\n",
    "# You'll need this\n",
    "mask = np.ones((N, T))\n",
    "\n",
    "loss = loss_func.forward(pred, labels, mask)\n",
    "dLoss = loss_func.backward()\n",
    "\n",
    "expected_loss = 49.2140256354\n",
    "\n",
    "print('loss: ', loss)\n",
    "print('expected loss: ', expected_loss)\n",
    "print('difference: ', abs(loss - expected_loss))"
   ]
  },
  {
   "cell_type": "markdown",
   "metadata": {},
   "source": [
    "# Let's have some fun!!\n",
    "\n",
    "Now you have everything you need for language modeling. You will work on text generation using RNNs from any text source (novel, lyrics). The network is trained to predict what word is coming next given a previous word. Once you train the model, by looping the network, you can keep generating a new text which is mimicing the original text source. Let's first put your source text you want to model in the following text box!\n",
    "\n",
    "**Notice**: in order to run next cell, paste your own text words into the form and hit Enter. Do not use notebook's own 'run cell' since it wouldn't read in anything."
   ]
  },
  {
   "cell_type": "code",
   "execution_count": 18,
   "metadata": {
    "collapsed": false
   },
   "outputs": [
    {
     "name": "stdout",
     "output_type": "stream",
     "text": [
      "set!!\n",
      "Dog goes woof, cat goes meow.Bird goes tweet, and mouse goes squeak.Cow goes moo. Frog goes croak, and the elephant goes toot.Ducks say quack and fish go blub, and the seal goes ow ow ow.But there's one sound that no one knows...What does the fox say?\n"
     ]
    }
   ],
   "source": [
    "from ipywidgets import widgets, interact\n",
    "from IPython.display import display\n",
    "input_text = widgets.Text()\n",
    "input_text.value = \"Dog goes woof, cat goes meow.Bird goes tweet, and mouse goes squeak.Cow goes moo. Frog goes croak, and the elephant goes toot.Ducks say quack and fish go blub, and the seal goes ow ow ow.But there's one sound that no one knows...What does the fox say?\"\n",
    "def f(x):\n",
    "    print('set!!')\n",
    "    print(x.value)\n",
    "input_text.on_submit(f)\n",
    "input_text\n",
    "# copy paste your text source in the box below and hit enter.\n",
    "# If you don't have any preference, \n",
    "# you can copy paste the lyrics from here https://www.azlyrics.com/lyrics/ylvis/thefox.html"
   ]
  },
  {
   "cell_type": "markdown",
   "metadata": {},
   "source": [
    "simply run the following code to construct training dataset<br />"
   ]
  },
  {
   "cell_type": "code",
   "execution_count": 19,
   "metadata": {
    "collapsed": false
   },
   "outputs": [
    {
     "name": "stdout",
     "output_type": "stream",
     "text": [
      "Input text size: 46\n",
      "Input word number: 32\n"
     ]
    }
   ],
   "source": [
    "import re\n",
    "\n",
    "text = re.split(' |\\n',input_text.value.lower()) # all words are converted into lower case\n",
    "outputSize = len(text)\n",
    "word_list = list(set(text))\n",
    "dataSize = len(word_list)\n",
    "output = np.zeros(outputSize)\n",
    "for i in range(0, outputSize):\n",
    "    index = np.where(np.asarray(word_list) == text[i])\n",
    "    output[i] = index[0]\n",
    "data_labels = output.astype(np.int)\n",
    "gt_labels = data_labels[1:]\n",
    "data_labels = data_labels[:-1]\n",
    "\n",
    "print('Input text size: %s' % outputSize)\n",
    "print('Input word number: %s' % dataSize)"
   ]
  },
  {
   "cell_type": "markdown",
   "metadata": {},
   "source": [
    "We defined a LanguageModelRNN class for you to fill in the TODO block in rnn.py.\n",
    "* Here design a recurrent neutral network consisting of a word_embedding layer, recurrent unit, and temporal fully connected layers so that they match the provided dimentions.\n",
    "* Please read the train.py under lib directory carefully and complete the TODO blocks in the train_net function first."
   ]
  },
  {
   "cell_type": "code",
   "execution_count": 20,
   "metadata": {
    "collapsed": false
   },
   "outputs": [
    {
     "name": "stdout",
     "output_type": "stream",
     "text": [
      "(Iteration 1 / 800) loss: 103.958945125903\n",
      "bast performance 13.333333333333334%\n",
      "(Epoch 1 / 200) Training Accuracy: 0.13333333333333333\n",
      "bast performance 15.555555555555555%\n",
      "(Epoch 2 / 200) Training Accuracy: 0.15555555555555556\n",
      "bast performance 20.0%\n",
      "(Epoch 3 / 200) Training Accuracy: 0.2\n",
      "bast performance 26.666666666666668%\n",
      "(Epoch 4 / 200) Training Accuracy: 0.26666666666666666\n",
      "bast performance 28.888888888888886%\n",
      "(Epoch 5 / 200) Training Accuracy: 0.28888888888888886\n",
      "(Epoch 6 / 200) Training Accuracy: 0.24444444444444444\n",
      "(Epoch 7 / 200) Training Accuracy: 0.2222222222222222\n",
      "(Epoch 8 / 200) Training Accuracy: 0.2222222222222222\n",
      "(Epoch 9 / 200) Training Accuracy: 0.2\n",
      "(Epoch 10 / 200) Training Accuracy: 0.2\n",
      "(Epoch 11 / 200) Training Accuracy: 0.2\n",
      "(Epoch 12 / 200) Training Accuracy: 0.2\n",
      "(Epoch 13 / 200) Training Accuracy: 0.2\n",
      "(Epoch 14 / 200) Training Accuracy: 0.2222222222222222\n",
      "(Epoch 15 / 200) Training Accuracy: 0.2\n",
      "(Epoch 16 / 200) Training Accuracy: 0.2\n",
      "(Epoch 17 / 200) Training Accuracy: 0.17777777777777778\n",
      "(Epoch 18 / 200) Training Accuracy: 0.2\n",
      "(Epoch 19 / 200) Training Accuracy: 0.2\n",
      "(Epoch 20 / 200) Training Accuracy: 0.2\n",
      "(Epoch 21 / 200) Training Accuracy: 0.2\n",
      "(Epoch 22 / 200) Training Accuracy: 0.2\n",
      "(Epoch 23 / 200) Training Accuracy: 0.2\n",
      "(Epoch 24 / 200) Training Accuracy: 0.2\n",
      "(Epoch 25 / 200) Training Accuracy: 0.2\n",
      "(Iteration 101 / 800) loss: 79.55332113116911\n",
      "(Epoch 26 / 200) Training Accuracy: 0.2\n",
      "(Epoch 27 / 200) Training Accuracy: 0.2222222222222222\n",
      "(Epoch 28 / 200) Training Accuracy: 0.2222222222222222\n",
      "(Epoch 29 / 200) Training Accuracy: 0.2222222222222222\n",
      "(Epoch 30 / 200) Training Accuracy: 0.26666666666666666\n",
      "(Epoch 31 / 200) Training Accuracy: 0.26666666666666666\n",
      "(Epoch 32 / 200) Training Accuracy: 0.26666666666666666\n",
      "(Epoch 33 / 200) Training Accuracy: 0.28888888888888886\n",
      "(Epoch 34 / 200) Training Accuracy: 0.28888888888888886\n",
      "(Epoch 35 / 200) Training Accuracy: 0.28888888888888886\n",
      "(Epoch 36 / 200) Training Accuracy: 0.28888888888888886\n",
      "(Epoch 37 / 200) Training Accuracy: 0.26666666666666666\n",
      "bast performance 31.11111111111111%\n",
      "(Epoch 38 / 200) Training Accuracy: 0.3111111111111111\n",
      "bast performance 35.55555555555556%\n",
      "(Epoch 39 / 200) Training Accuracy: 0.35555555555555557\n",
      "bast performance 37.77777777777778%\n",
      "(Epoch 40 / 200) Training Accuracy: 0.37777777777777777\n",
      "bast performance 42.22222222222222%\n",
      "(Epoch 41 / 200) Training Accuracy: 0.4222222222222222\n",
      "bast performance 48.888888888888886%\n",
      "(Epoch 42 / 200) Training Accuracy: 0.4888888888888889\n",
      "bast performance 51.11111111111111%\n",
      "(Epoch 43 / 200) Training Accuracy: 0.5111111111111111\n",
      "bast performance 55.55555555555556%\n",
      "(Epoch 44 / 200) Training Accuracy: 0.5555555555555556\n",
      "(Epoch 45 / 200) Training Accuracy: 0.5555555555555556\n",
      "bast performance 57.77777777777777%\n",
      "(Epoch 46 / 200) Training Accuracy: 0.5777777777777777\n",
      "(Epoch 47 / 200) Training Accuracy: 0.5777777777777777\n",
      "bast performance 60.0%\n",
      "(Epoch 48 / 200) Training Accuracy: 0.6\n",
      "bast performance 62.22222222222222%\n",
      "(Epoch 49 / 200) Training Accuracy: 0.6222222222222222\n",
      "bast performance 64.44444444444444%\n",
      "(Epoch 50 / 200) Training Accuracy: 0.6444444444444445\n",
      "(Iteration 201 / 800) loss: 42.21999474274222\n",
      "(Epoch 51 / 200) Training Accuracy: 0.6444444444444445\n",
      "(Epoch 52 / 200) Training Accuracy: 0.6444444444444445\n",
      "(Epoch 53 / 200) Training Accuracy: 0.6444444444444445\n",
      "(Epoch 54 / 200) Training Accuracy: 0.6444444444444445\n",
      "(Epoch 55 / 200) Training Accuracy: 0.6444444444444445\n",
      "(Epoch 56 / 200) Training Accuracy: 0.6444444444444445\n",
      "(Epoch 57 / 200) Training Accuracy: 0.6444444444444445\n",
      "(Epoch 58 / 200) Training Accuracy: 0.6444444444444445\n",
      "(Epoch 59 / 200) Training Accuracy: 0.6444444444444445\n",
      "(Epoch 60 / 200) Training Accuracy: 0.6444444444444445\n",
      "bast performance 66.66666666666666%\n",
      "(Epoch 61 / 200) Training Accuracy: 0.6666666666666666\n",
      "bast performance 73.33333333333333%\n",
      "(Epoch 62 / 200) Training Accuracy: 0.7333333333333333\n",
      "(Epoch 63 / 200) Training Accuracy: 0.7333333333333333\n",
      "bast performance 77.77777777777779%\n",
      "(Epoch 64 / 200) Training Accuracy: 0.7777777777777778\n",
      "(Epoch 65 / 200) Training Accuracy: 0.7777777777777778\n",
      "(Epoch 66 / 200) Training Accuracy: 0.7777777777777778\n",
      "(Epoch 67 / 200) Training Accuracy: 0.7777777777777778\n",
      "(Epoch 68 / 200) Training Accuracy: 0.7777777777777778\n",
      "bast performance 80.0%\n",
      "(Epoch 69 / 200) Training Accuracy: 0.8\n",
      "(Epoch 70 / 200) Training Accuracy: 0.8\n",
      "(Epoch 71 / 200) Training Accuracy: 0.8\n",
      "(Epoch 72 / 200) Training Accuracy: 0.8\n",
      "(Epoch 73 / 200) Training Accuracy: 0.8\n",
      "(Epoch 74 / 200) Training Accuracy: 0.8\n",
      "(Epoch 75 / 200) Training Accuracy: 0.8\n",
      "(Iteration 301 / 800) loss: 21.833743327654602\n",
      "(Epoch 76 / 200) Training Accuracy: 0.8\n",
      "bast performance 82.22222222222221%\n",
      "(Epoch 77 / 200) Training Accuracy: 0.8222222222222222\n",
      "(Epoch 78 / 200) Training Accuracy: 0.8222222222222222\n",
      "(Epoch 79 / 200) Training Accuracy: 0.8222222222222222\n",
      "(Epoch 80 / 200) Training Accuracy: 0.8222222222222222\n",
      "(Epoch 81 / 200) Training Accuracy: 0.8222222222222222\n",
      "(Epoch 82 / 200) Training Accuracy: 0.8222222222222222\n",
      "(Epoch 83 / 200) Training Accuracy: 0.8222222222222222\n",
      "bast performance 84.44444444444444%\n",
      "(Epoch 84 / 200) Training Accuracy: 0.8444444444444444\n",
      "bast performance 86.66666666666667%\n",
      "(Epoch 85 / 200) Training Accuracy: 0.8666666666666667\n",
      "(Epoch 86 / 200) Training Accuracy: 0.8666666666666667\n",
      "(Epoch 87 / 200) Training Accuracy: 0.8666666666666667\n",
      "(Epoch 88 / 200) Training Accuracy: 0.8666666666666667\n",
      "(Epoch 89 / 200) Training Accuracy: 0.8666666666666667\n",
      "(Epoch 90 / 200) Training Accuracy: 0.8666666666666667\n",
      "(Epoch 91 / 200) Training Accuracy: 0.8666666666666667\n",
      "(Epoch 92 / 200) Training Accuracy: 0.8666666666666667\n",
      "(Epoch 93 / 200) Training Accuracy: 0.8666666666666667\n",
      "(Epoch 94 / 200) Training Accuracy: 0.8666666666666667\n",
      "(Epoch 95 / 200) Training Accuracy: 0.8666666666666667\n",
      "(Epoch 96 / 200) Training Accuracy: 0.8666666666666667\n",
      "(Epoch 97 / 200) Training Accuracy: 0.8666666666666667\n",
      "(Epoch 98 / 200) Training Accuracy: 0.8666666666666667\n",
      "(Epoch 99 / 200) Training Accuracy: 0.8666666666666667\n",
      "bast performance 88.88888888888889%\n",
      "(Epoch 100 / 200) Training Accuracy: 0.8888888888888888\n",
      "(Iteration 401 / 800) loss: 11.264779055084214\n",
      "(Epoch 101 / 200) Training Accuracy: 0.8666666666666667\n",
      "(Epoch 102 / 200) Training Accuracy: 0.8888888888888888\n",
      "(Epoch 103 / 200) Training Accuracy: 0.8888888888888888\n",
      "(Epoch 104 / 200) Training Accuracy: 0.8888888888888888\n",
      "(Epoch 105 / 200) Training Accuracy: 0.8888888888888888\n",
      "(Epoch 106 / 200) Training Accuracy: 0.8888888888888888\n",
      "(Epoch 107 / 200) Training Accuracy: 0.8888888888888888\n",
      "(Epoch 108 / 200) Training Accuracy: 0.8888888888888888\n",
      "(Epoch 109 / 200) Training Accuracy: 0.8888888888888888\n",
      "(Epoch 110 / 200) Training Accuracy: 0.8888888888888888\n",
      "(Epoch 111 / 200) Training Accuracy: 0.8888888888888888\n",
      "(Epoch 112 / 200) Training Accuracy: 0.8888888888888888\n",
      "(Epoch 113 / 200) Training Accuracy: 0.8888888888888888\n",
      "(Epoch 114 / 200) Training Accuracy: 0.8888888888888888\n",
      "(Epoch 115 / 200) Training Accuracy: 0.8888888888888888\n",
      "(Epoch 116 / 200) Training Accuracy: 0.8888888888888888\n",
      "(Epoch 117 / 200) Training Accuracy: 0.8888888888888888\n",
      "(Epoch 118 / 200) Training Accuracy: 0.8888888888888888\n",
      "(Epoch 119 / 200) Training Accuracy: 0.8888888888888888\n",
      "(Epoch 120 / 200) Training Accuracy: 0.8888888888888888\n",
      "(Epoch 121 / 200) Training Accuracy: 0.8888888888888888\n",
      "(Epoch 122 / 200) Training Accuracy: 0.8888888888888888\n",
      "bast performance 91.11111111111111%\n",
      "(Epoch 123 / 200) Training Accuracy: 0.9111111111111111\n",
      "(Epoch 124 / 200) Training Accuracy: 0.9111111111111111\n",
      "(Epoch 125 / 200) Training Accuracy: 0.9111111111111111\n",
      "(Iteration 501 / 800) loss: 7.974440617988284\n",
      "(Epoch 126 / 200) Training Accuracy: 0.9111111111111111\n",
      "(Epoch 127 / 200) Training Accuracy: 0.9111111111111111\n",
      "(Epoch 128 / 200) Training Accuracy: 0.9111111111111111\n",
      "(Epoch 129 / 200) Training Accuracy: 0.9111111111111111\n",
      "(Epoch 130 / 200) Training Accuracy: 0.9111111111111111\n",
      "(Epoch 131 / 200) Training Accuracy: 0.9111111111111111\n",
      "(Epoch 132 / 200) Training Accuracy: 0.9111111111111111\n",
      "(Epoch 133 / 200) Training Accuracy: 0.9111111111111111\n",
      "(Epoch 134 / 200) Training Accuracy: 0.9111111111111111\n",
      "(Epoch 135 / 200) Training Accuracy: 0.9111111111111111\n",
      "(Epoch 136 / 200) Training Accuracy: 0.9111111111111111\n",
      "(Epoch 137 / 200) Training Accuracy: 0.9111111111111111\n",
      "(Epoch 138 / 200) Training Accuracy: 0.9111111111111111\n",
      "(Epoch 139 / 200) Training Accuracy: 0.9111111111111111\n",
      "(Epoch 140 / 200) Training Accuracy: 0.9111111111111111\n",
      "(Epoch 141 / 200) Training Accuracy: 0.9111111111111111\n",
      "(Epoch 142 / 200) Training Accuracy: 0.9111111111111111\n",
      "(Epoch 143 / 200) Training Accuracy: 0.9111111111111111\n",
      "(Epoch 144 / 200) Training Accuracy: 0.9111111111111111\n",
      "(Epoch 145 / 200) Training Accuracy: 0.9111111111111111\n",
      "(Epoch 146 / 200) Training Accuracy: 0.9111111111111111\n",
      "(Epoch 147 / 200) Training Accuracy: 0.9111111111111111\n",
      "bast performance 93.33333333333333%\n",
      "(Epoch 148 / 200) Training Accuracy: 0.9333333333333333\n",
      "(Epoch 149 / 200) Training Accuracy: 0.9333333333333333\n",
      "(Epoch 150 / 200) Training Accuracy: 0.9333333333333333\n",
      "(Iteration 601 / 800) loss: 5.574233348639392\n",
      "(Epoch 151 / 200) Training Accuracy: 0.9333333333333333\n",
      "(Epoch 152 / 200) Training Accuracy: 0.9333333333333333\n",
      "(Epoch 153 / 200) Training Accuracy: 0.9333333333333333\n",
      "bast performance 95.55555555555556%\n",
      "(Epoch 154 / 200) Training Accuracy: 0.9555555555555556\n",
      "(Epoch 155 / 200) Training Accuracy: 0.9555555555555556\n",
      "(Epoch 156 / 200) Training Accuracy: 0.9555555555555556\n",
      "(Epoch 157 / 200) Training Accuracy: 0.9555555555555556\n",
      "(Epoch 158 / 200) Training Accuracy: 0.9555555555555556\n",
      "(Epoch 159 / 200) Training Accuracy: 0.9555555555555556\n",
      "(Epoch 160 / 200) Training Accuracy: 0.9555555555555556\n",
      "(Epoch 161 / 200) Training Accuracy: 0.9555555555555556\n",
      "(Epoch 162 / 200) Training Accuracy: 0.9555555555555556\n",
      "(Epoch 163 / 200) Training Accuracy: 0.9555555555555556\n",
      "(Epoch 164 / 200) Training Accuracy: 0.9555555555555556\n",
      "(Epoch 165 / 200) Training Accuracy: 0.9555555555555556\n",
      "(Epoch 166 / 200) Training Accuracy: 0.9555555555555556\n",
      "(Epoch 167 / 200) Training Accuracy: 0.9555555555555556\n",
      "(Epoch 168 / 200) Training Accuracy: 0.9555555555555556\n",
      "(Epoch 169 / 200) Training Accuracy: 0.9555555555555556\n",
      "(Epoch 170 / 200) Training Accuracy: 0.9555555555555556\n",
      "(Epoch 171 / 200) Training Accuracy: 0.9555555555555556\n",
      "(Epoch 172 / 200) Training Accuracy: 0.9555555555555556\n",
      "(Epoch 173 / 200) Training Accuracy: 0.9555555555555556\n",
      "(Epoch 174 / 200) Training Accuracy: 0.9555555555555556\n",
      "(Epoch 175 / 200) Training Accuracy: 0.9555555555555556\n",
      "(Iteration 701 / 800) loss: 4.185470839925243\n",
      "(Epoch 176 / 200) Training Accuracy: 0.9555555555555556\n",
      "(Epoch 177 / 200) Training Accuracy: 0.9555555555555556\n",
      "(Epoch 178 / 200) Training Accuracy: 0.9555555555555556\n",
      "(Epoch 179 / 200) Training Accuracy: 0.9555555555555556\n",
      "(Epoch 180 / 200) Training Accuracy: 0.9555555555555556\n",
      "(Epoch 181 / 200) Training Accuracy: 0.9555555555555556\n",
      "(Epoch 182 / 200) Training Accuracy: 0.9555555555555556\n",
      "(Epoch 183 / 200) Training Accuracy: 0.9555555555555556\n",
      "(Epoch 184 / 200) Training Accuracy: 0.9555555555555556\n",
      "(Epoch 185 / 200) Training Accuracy: 0.9555555555555556\n",
      "(Epoch 186 / 200) Training Accuracy: 0.9555555555555556\n",
      "(Epoch 187 / 200) Training Accuracy: 0.9555555555555556\n",
      "(Epoch 188 / 200) Training Accuracy: 0.9555555555555556\n",
      "(Epoch 189 / 200) Training Accuracy: 0.9555555555555556\n",
      "(Epoch 190 / 200) Training Accuracy: 0.9555555555555556\n",
      "(Epoch 191 / 200) Training Accuracy: 0.9555555555555556\n",
      "(Epoch 192 / 200) Training Accuracy: 0.9555555555555556\n",
      "(Epoch 193 / 200) Training Accuracy: 0.9555555555555556\n",
      "(Epoch 194 / 200) Training Accuracy: 0.9555555555555556\n",
      "(Epoch 195 / 200) Training Accuracy: 0.9555555555555556\n",
      "(Epoch 196 / 200) Training Accuracy: 0.9555555555555556\n",
      "(Epoch 197 / 200) Training Accuracy: 0.9555555555555556\n",
      "(Epoch 198 / 200) Training Accuracy: 0.9555555555555556\n",
      "(Epoch 199 / 200) Training Accuracy: 0.9555555555555556\n",
      "(Epoch 200 / 200) Training Accuracy: 0.9555555555555556\n"
     ]
    }
   ],
   "source": [
    "# you can change the following parameters.\n",
    "D = 10 # input dimention\n",
    "H = 30 # hidden space dimention\n",
    "T = 30 # timesteps\n",
    "N = 10 # batch size\n",
    "max_epoch = 200 # max epoch size\n",
    "\n",
    "loss_func = temporal_softmax_loss()\n",
    "# you can change the cell_type between 'rnn' and 'lstm'.\n",
    "model = LanguageModelRNN(dataSize, D, H, cell_type='lstm')\n",
    "optimizer = Adam(model, 5e-4)\n",
    "\n",
    "data = { 'data_train': data_labels, 'labels_train': gt_labels }\n",
    "\n",
    "results = train_net(data, model, loss_func, optimizer, timesteps=T, batch_size=N, max_epochs=max_epoch, verbose=True)"
   ]
  },
  {
   "cell_type": "markdown",
   "metadata": {},
   "source": [
    "Simply run the following code block to check the loss and accuracy curve."
   ]
  },
  {
   "cell_type": "code",
   "execution_count": 21,
   "metadata": {
    "collapsed": false
   },
   "outputs": [
    {
     "data": {
      "image/png": "[encoded data removed]",
      "text/plain": [
       "<matplotlib.figure.Figure at 0x238cb525ac8>"
      ]
     },
     "metadata": {},
     "output_type": "display_data"
    }
   ],
   "source": [
    "opt_params, loss_hist, train_acc_hist = results\n",
    "\n",
    "# Plot the learning curves\n",
    "plt.subplot(2, 1, 1)\n",
    "plt.title('Training loss')\n",
    "loss_hist_ = loss_hist[1::100] # sparse the curve a bit\n",
    "plt.plot(loss_hist_, '-o')\n",
    "plt.xlabel('Iteration')\n",
    "\n",
    "plt.subplot(2, 1, 2)\n",
    "plt.title('Accuracy')\n",
    "plt.plot(train_acc_hist, '-o', label='Training')\n",
    "plt.xlabel('Epoch')\n",
    "plt.legend(loc='lower right')\n",
    "plt.gcf().set_size_inches(15, 12)\n",
    "\n",
    "plt.show()"
   ]
  },
  {
   "cell_type": "markdown",
   "metadata": {},
   "source": [
    "Now you can generate a text using the trained model. You can also start from a specific word in the original text. If you trained your model with \"The Fox\", you can check how well it is modeled by starting from \"dog\", \"cat\", etc."
   ]
  },
  {
   "cell_type": "code",
   "execution_count": 22,
   "metadata": {
    "collapsed": false
   },
   "outputs": [
    {
     "name": "stdout",
     "output_type": "stream",
     "text": [
      "cat goes meow.bird goes tweet, and mouse goes squeak.cow goes moo. frog goes croak, and the elephant goes toot.ducks say quack and fish go blub, and the seal goes ow ow ow.but there's one sound that no one knows...what does the fox fox the elephant moo. frog goes croak, and the elephant goes toot.ducks say quack and fish go blub, and the seal goes ow ow ow.but there's one sound that no one knows...what does the fox fox the elephant moo. frog goes croak, and the elephant goes toot.ducks say quack and fish go blub, and the seal goes ow\n"
     ]
    }
   ],
   "source": [
    "# you can change the generated text length below.\n",
    "text_length = 100\n",
    "\n",
    "idx = 0\n",
    "# you also can start from specific word. \n",
    "# since the words are all converted into lower case, make sure you put lower case below.\n",
    "idx = int(np.where(np.asarray(word_list) == 'cat')[0])\n",
    "\n",
    "# sample from the trained model\n",
    "words = model.sample(idx, text_length-1)\n",
    "\n",
    "# convert indices into words\n",
    "output = [ word_list[i] for i in words]\n",
    "print(' '.join(output))"
   ]
  },
  {
   "cell_type": "markdown",
   "metadata": {},
   "source": [
    "### Inline Question: Play around with different settings to get better understanding of its behavior and describe your observation. Make sure at least you cover the following points:\n",
    "* Vanilla RNN vs LSTM (you can set different time steps and test with longer texts.)\n",
    "* Problems in these approaches (there's no unique answer. just explain your own opinion from experiments.)\n",
    "#### Ans: LSTM gives us better results compares to Vanilla RNN as the gradient flow is smoother in case of LSTM compared to vanilla RNN. There is no issue of gradient explosion or gradient vanishing in LSTM. \n",
    "The drawback of LSTM is that it is a bit slower compared to Vanilla RNN as it is computationally more intensive.\n"
   ]
  },
  {
   "cell_type": "code",
   "execution_count": null,
   "metadata": {
    "collapsed": true
   },
   "outputs": [],
   "source": []
  }
 ],
 "metadata": {
  "kernelspec": {
   "display_name": "Python 3",
   "language": "python",
   "name": "python3"
  },
  "language_info": {
   "codemirror_mode": {
    "name": "ipython",
    "version": 3
   },
   "file_extension": ".py",
   "mimetype": "text/x-python",
   "name": "python",
   "nbconvert_exporter": "python",
   "pygments_lexer": "ipython3",
   "version": "3.5.4"
  }
 },
 "nbformat": 4,
 "nbformat_minor": 1
}
